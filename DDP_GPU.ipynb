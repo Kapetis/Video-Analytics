{
  "nbformat": 4,
  "nbformat_minor": 0,
  "metadata": {
    "colab": {
      "name": "DDP-GPU.ipynb",
      "provenance": [],
      "collapsed_sections": [],
      "include_colab_link": true
    },
    "kernelspec": {
      "name": "python3",
      "display_name": "Python 3"
    },
    "accelerator": "GPU"
  },
  "cells": [
    {
      "cell_type": "markdown",
      "metadata": {
        "id": "view-in-github",
        "colab_type": "text"
      },
      "source": [
        "<a href=\"https://colab.research.google.com/github/Kapetis/Video-Analytics/blob/main/DDP_GPU.ipynb\" target=\"_parent\"><img src=\"https://colab.research.google.com/assets/colab-badge.svg\" alt=\"Open In Colab\"/></a>"
      ]
    },
    {
      "cell_type": "markdown",
      "metadata": {
        "id": "HKhGpmGy53Ju"
      },
      "source": [
        "# **Pre-requisites**"
      ]
    },
    {
      "cell_type": "markdown",
      "metadata": {
        "id": "lPzSXCxn47Oy"
      },
      "source": [
        "Clone the github repository in '/root' folder, which is also our working directory"
      ]
    },
    {
      "cell_type": "code",
      "metadata": {
        "id": "JipgiYR5nqIL",
        "colab": {
          "base_uri": "https://localhost:8080/"
        },
        "outputId": "418aead2-3bec-400d-e994-b2d5fe229c74"
      },
      "source": [
        "%cd\n",
        "!git clone https://github.com/Kapetis/Person-Tracking-and-Re-ID.git"
      ],
      "execution_count": 6,
      "outputs": [
        {
          "output_type": "stream",
          "text": [
            "/root\n"
          ],
          "name": "stdout"
        }
      ]
    },
    {
      "cell_type": "code",
      "metadata": {
        "id": "2D7PpnScG4Na"
      },
      "source": [
        ""
      ],
      "execution_count": 7,
      "outputs": []
    },
    {
      "cell_type": "markdown",
      "metadata": {
        "id": "X6ErvMnCPS-t"
      },
      "source": [
        "Download weights, if not available locally"
      ]
    },
    {
      "cell_type": "code",
      "metadata": {
        "id": "Vb0HE5fgE31W",
        "colab": {
          "base_uri": "https://localhost:8080/"
        },
        "outputId": "9c4f0433-602d-43fc-ca85-15d5cf6726ea"
      },
      "source": [
        "!gdown https://drive.google.com/uc?id=1w2-mhmllgaob6KESagEyL1IMRlPRRjBg \\\n",
        "-O /root/Person-Tracking-and-Re-ID/people-counting/yolo/yolov3.weights"
      ],
      "execution_count": 8,
      "outputs": [
        {
          "output_type": "stream",
          "text": [
            "Downloading...\n",
            "From: https://drive.google.com/uc?id=1w2-mhmllgaob6KESagEyL1IMRlPRRjBg\n",
            "To: /root/Person-Tracking-and-Re-ID/people-counting/yolo/yolov3.weights\n",
            "248MB [00:03, 64.0MB/s]\n"
          ],
          "name": "stdout"
        }
      ]
    },
    {
      "cell_type": "code",
      "metadata": {
        "id": "-A0FZqcdOvKB",
        "colab": {
          "base_uri": "https://localhost:8080/"
        },
        "outputId": "dd5d9eb5-060e-4db0-c301-515b856bcea8"
      },
      "source": [
        "!gdown https://drive.google.com/uc?id=1eoKmP4cdOAu1xmQMsmKYulSIKVXZFP9n \\\n",
        "-O /root/Person-Tracking-and-Re-ID/deep-reid/log/resnet50/model.pth.tar-60"
      ],
      "execution_count": 9,
      "outputs": [
        {
          "output_type": "stream",
          "text": [
            "Downloading...\n",
            "From: https://drive.google.com/uc?id=1eoKmP4cdOAu1xmQMsmKYulSIKVXZFP9n\n",
            "To: /root/Person-Tracking-and-Re-ID/deep-reid/log/resnet50/model.pth.tar-60\n",
            "301MB [00:01, 185MB/s]\n"
          ],
          "name": "stdout"
        }
      ]
    },
    {
      "cell_type": "markdown",
      "metadata": {
        "id": "JP_fTTht5gn_"
      },
      "source": [
        "# **Tracking and generating metadata**"
      ]
    },
    {
      "cell_type": "markdown",
      "metadata": {
        "id": "sYBgPlHB6HW4"
      },
      "source": [
        "Move to tracking/counting directory"
      ]
    },
    {
      "cell_type": "code",
      "metadata": {
        "id": "7w3pW5NHpBy3",
        "colab": {
          "base_uri": "https://localhost:8080/"
        },
        "outputId": "85cd1c5f-17f1-4358-aef3-11d84dc5b31c"
      },
      "source": [
        "%cd /root/Person-Tracking-and-Re-ID/people-counting/"
      ],
      "execution_count": 12,
      "outputs": [
        {
          "output_type": "stream",
          "text": [
            "/root/Person-Tracking-and-Re-ID/people-counting\n"
          ],
          "name": "stdout"
        }
      ]
    },
    {
      "cell_type": "markdown",
      "metadata": {
        "id": "10tLkpp16Npi"
      },
      "source": [
        "Running tracker script on 'sample1.mp4'"
      ]
    },
    {
      "cell_type": "code",
      "metadata": {
        "id": "U6miyNijpFC9",
        "colab": {
          "base_uri": "https://localhost:8080/"
        },
        "outputId": "ca65cf13-580f-4dfb-9e44-802f80cba3c8"
      },
      "source": [
        "!python3 darknet_people_counter.py -o out.mp4 -i videos/sample1.mp4"
      ],
      "execution_count": 13,
      "outputs": [
        {
          "output_type": "stream",
          "text": [
            "sample1\n",
            "[INFO] loading model...\n",
            "layer     filters    size              input                output\n",
            "    0 conv     16  3 x 3 / 1   416 x 416 x   3   ->   416 x 416 x  16  0.150 BFLOPs\n",
            "    1 max          2 x 2 / 2   416 x 416 x  16   ->   208 x 208 x  16\n",
            "    2 conv     32  3 x 3 / 1   208 x 208 x  16   ->   208 x 208 x  32  0.399 BFLOPs\n",
            "    3 max          2 x 2 / 2   208 x 208 x  32   ->   104 x 104 x  32\n",
            "    4 conv     64  3 x 3 / 1   104 x 104 x  32   ->   104 x 104 x  64  0.399 BFLOPs\n",
            "    5 max          2 x 2 / 2   104 x 104 x  64   ->    52 x  52 x  64\n",
            "    6 conv    128  3 x 3 / 1    52 x  52 x  64   ->    52 x  52 x 128  0.399 BFLOPs\n",
            "    7 max          2 x 2 / 2    52 x  52 x 128   ->    26 x  26 x 128\n",
            "    8 conv    256  3 x 3 / 1    26 x  26 x 128   ->    26 x  26 x 256  0.399 BFLOPs\n",
            "    9 max          2 x 2 / 2    26 x  26 x 256   ->    13 x  13 x 256\n",
            "   10 conv    512  3 x 3 / 1    13 x  13 x 256   ->    13 x  13 x 512  0.399 BFLOPs\n",
            "   11 max          2 x 2 / 1    13 x  13 x 512   ->    13 x  13 x 512\n",
            "   12 conv   1024  3 x 3 / 1    13 x  13 x 512   ->    13 x  13 x1024  1.595 BFLOPs\n",
            "   13 conv    256  1 x 1 / 1    13 x  13 x1024   ->    13 x  13 x 256  0.089 BFLOPs\n",
            "   14 conv    512  3 x 3 / 1    13 x  13 x 256   ->    13 x  13 x 512  0.399 BFLOPs\n",
            "   15 conv    255  1 x 1 / 1    13 x  13 x 512   ->    13 x  13 x 255  0.044 BFLOPs\n",
            "   16 yolo\n",
            "   17 route  13\n",
            "   18 conv    128  1 x 1 / 1    13 x  13 x 256   ->    13 x  13 x 128  0.011 BFLOPs\n",
            "   19 upsample            2x    13 x  13 x 128   ->    26 x  26 x 128\n",
            "   20 route  19 8\n",
            "   21 conv    256  3 x 3 / 1    26 x  26 x 384   ->    26 x  26 x 256  1.196 BFLOPs\n",
            "   22 conv    255  1 x 1 / 1    26 x  26 x 256   ->    26 x  26 x 255  0.088 BFLOPs\n",
            "   23 yolo\n",
            "Loading weights from yolo/yolov3-tiny.weights...Done!\n",
            "OpenCV: FFMPEG: tag 0x47504a4d/'MJPG' is not supported with codec id 7 and format 'mp4 / MP4 (MPEG-4 Part 14)'\n",
            "OpenCV: FFMPEG: fallback to use tag 0x7634706d/'mp4v'\n",
            "in\n",
            "out\n",
            "in\n",
            "in\n",
            "in\n",
            "in\n",
            "in\n",
            "out\n",
            "out\n",
            "in\n",
            "in\n",
            "[INFO] elapsed time: 36.07\n",
            "[INFO] approx. FPS: 20.32\n"
          ],
          "name": "stdout"
        }
      ]
    },
    {
      "cell_type": "markdown",
      "metadata": {
        "id": "cr3e_Gi36XUs"
      },
      "source": [
        "Code to move metadata into 'deep-reid' folder for future use (Transferring metadata)"
      ]
    },
    {
      "cell_type": "code",
      "metadata": {
        "id": "nSotRAnMxmIE"
      },
      "source": [
        "import os\n",
        "import math\n",
        "import shutil\n",
        "\n",
        "dataset_dir = '../deep-reid/reid-data/Test_folder'\n",
        "\n",
        "# remove and create dataset directory\n",
        "shutil.rmtree(dataset_dir, ignore_errors=True)\n",
        "os.mkdir(dataset_dir)\n",
        "os.mkdir(dataset_dir + '/gallery')\n",
        "os.mkdir(dataset_dir + '/query')"
      ],
      "execution_count": 14,
      "outputs": []
    },
    {
      "cell_type": "markdown",
      "metadata": {
        "id": "v9g3fkGb6lQ9"
      },
      "source": [
        "Transfer 'sample1.mp4' images"
      ]
    },
    {
      "cell_type": "code",
      "metadata": {
        "id": "Zd0DXoRL1dD_"
      },
      "source": [
        "for f in (os.listdir('gallery')):\n",
        "    if f.endswith(\".jpg\"):\n",
        "        shutil.copy('gallery/' + f, dataset_dir + '/gallery')"
      ],
      "execution_count": 15,
      "outputs": []
    },
    {
      "cell_type": "markdown",
      "metadata": {
        "id": "PfFpLsN_6swr"
      },
      "source": [
        "Running tracker script on 'sample1-flip.mp4'"
      ]
    },
    {
      "cell_type": "code",
      "metadata": {
        "id": "iHGQc8whhVkX",
        "colab": {
          "base_uri": "https://localhost:8080/"
        },
        "outputId": "0584514a-8024-40de-90b3-be151eb89980"
      },
      "source": [
        "!python3 darknet_people_counter.py -o out-flip.mp4 -i videos/sample1-flip.mp4"
      ],
      "execution_count": 16,
      "outputs": [
        {
          "output_type": "stream",
          "text": [
            "sample1-flip\n",
            "[INFO] loading model...\n",
            "layer     filters    size              input                output\n",
            "    0 conv     16  3 x 3 / 1   416 x 416 x   3   ->   416 x 416 x  16  0.150 BFLOPs\n",
            "    1 max          2 x 2 / 2   416 x 416 x  16   ->   208 x 208 x  16\n",
            "    2 conv     32  3 x 3 / 1   208 x 208 x  16   ->   208 x 208 x  32  0.399 BFLOPs\n",
            "    3 max          2 x 2 / 2   208 x 208 x  32   ->   104 x 104 x  32\n",
            "    4 conv     64  3 x 3 / 1   104 x 104 x  32   ->   104 x 104 x  64  0.399 BFLOPs\n",
            "    5 max          2 x 2 / 2   104 x 104 x  64   ->    52 x  52 x  64\n",
            "    6 conv    128  3 x 3 / 1    52 x  52 x  64   ->    52 x  52 x 128  0.399 BFLOPs\n",
            "    7 max          2 x 2 / 2    52 x  52 x 128   ->    26 x  26 x 128\n",
            "    8 conv    256  3 x 3 / 1    26 x  26 x 128   ->    26 x  26 x 256  0.399 BFLOPs\n",
            "    9 max          2 x 2 / 2    26 x  26 x 256   ->    13 x  13 x 256\n",
            "   10 conv    512  3 x 3 / 1    13 x  13 x 256   ->    13 x  13 x 512  0.399 BFLOPs\n",
            "   11 max          2 x 2 / 1    13 x  13 x 512   ->    13 x  13 x 512\n",
            "   12 conv   1024  3 x 3 / 1    13 x  13 x 512   ->    13 x  13 x1024  1.595 BFLOPs\n",
            "   13 conv    256  1 x 1 / 1    13 x  13 x1024   ->    13 x  13 x 256  0.089 BFLOPs\n",
            "   14 conv    512  3 x 3 / 1    13 x  13 x 256   ->    13 x  13 x 512  0.399 BFLOPs\n",
            "   15 conv    255  1 x 1 / 1    13 x  13 x 512   ->    13 x  13 x 255  0.044 BFLOPs\n",
            "   16 yolo\n",
            "   17 route  13\n",
            "   18 conv    128  1 x 1 / 1    13 x  13 x 256   ->    13 x  13 x 128  0.011 BFLOPs\n",
            "   19 upsample            2x    13 x  13 x 128   ->    26 x  26 x 128\n",
            "   20 route  19 8\n",
            "   21 conv    256  3 x 3 / 1    26 x  26 x 384   ->    26 x  26 x 256  1.196 BFLOPs\n",
            "   22 conv    255  1 x 1 / 1    26 x  26 x 256   ->    26 x  26 x 255  0.088 BFLOPs\n",
            "   23 yolo\n",
            "Loading weights from yolo/yolov3-tiny.weights...Done!\n",
            "OpenCV: FFMPEG: tag 0x47504a4d/'MJPG' is not supported with codec id 7 and format 'mp4 / MP4 (MPEG-4 Part 14)'\n",
            "OpenCV: FFMPEG: fallback to use tag 0x7634706d/'mp4v'\n",
            "in\n",
            "out\n",
            "in\n",
            "out\n",
            "in\n",
            "in\n",
            "out\n",
            "in\n",
            "in\n",
            "in\n",
            "[INFO] elapsed time: 33.50\n",
            "[INFO] approx. FPS: 21.88\n"
          ],
          "name": "stdout"
        }
      ]
    },
    {
      "cell_type": "markdown",
      "metadata": {
        "id": "Igeh1S3h61FP"
      },
      "source": [
        "Transfer 'sample1-flip.mp4' images"
      ]
    },
    {
      "cell_type": "code",
      "metadata": {
        "id": "lcvFHzrO1n8Y"
      },
      "source": [
        "for f in (os.listdir('gallery')):\n",
        "    if f.endswith(\".jpg\"):\n",
        "        shutil.copy('gallery/' + f, dataset_dir + '/gallery')"
      ],
      "execution_count": 17,
      "outputs": []
    },
    {
      "cell_type": "markdown",
      "metadata": {
        "id": "vLYg_s9L6_sh"
      },
      "source": [
        "# **Person Re-ID**"
      ]
    },
    {
      "cell_type": "markdown",
      "metadata": {
        "id": "sEFpbtLrDybx"
      },
      "source": [
        "Change working directory to 'deep-reid'"
      ]
    },
    {
      "cell_type": "code",
      "metadata": {
        "id": "nVBqCDGZKgm5",
        "colab": {
          "base_uri": "https://localhost:8080/"
        },
        "outputId": "4bb73777-9e69-4095-864e-281052003ed0"
      },
      "source": [
        "%cd ../deep-reid/"
      ],
      "execution_count": 18,
      "outputs": [
        {
          "output_type": "stream",
          "text": [
            "/root/Person-Tracking-and-Re-ID/deep-reid\n"
          ],
          "name": "stdout"
        }
      ]
    },
    {
      "cell_type": "markdown",
      "metadata": {
        "id": "SY7tVos1DxqO"
      },
      "source": [
        "Randomly make small query set from available images"
      ]
    },
    {
      "cell_type": "code",
      "metadata": {
        "id": "-mewWzPpJNVP",
        "colab": {
          "base_uri": "https://localhost:8080/",
          "height": 417
        },
        "outputId": "6fbefd62-a0ae-4af1-94d7-415b9e6f539d"
      },
      "source": [
        "import random\n",
        "import os\n",
        "import shutil\n",
        "from IPython.display import Image, display\n",
        "\n",
        "gdir = 'reid-data/Test_folder/gallery/'\n",
        "qdir = 'reid-data/Test_folder/query/'\n",
        "\n",
        "queries = random.sample(os.listdir(gdir), k = 5)\n",
        "\n",
        "for query in queries:\n",
        "    shutil.copy(gdir + query, qdir)\n",
        "    print(query)\n",
        "    display(Image(gdir + query))"
      ],
      "execution_count": 19,
      "outputs": [
        {
          "output_type": "stream",
          "text": [
            "sample1_9_0.jpg\n"
          ],
          "name": "stdout"
        },
        {
          "output_type": "display_data",
          "data": {
            "image/jpeg": "[encoded data removed]",
            "text/plain": [
              "<IPython.core.display.Image object>"
            ]
          },
          "metadata": {
            "tags": []
          }
        },
        {
          "output_type": "stream",
          "text": [
            "sample1_8_0.jpg\n"
          ],
          "name": "stdout"
        },
        {
          "output_type": "display_data",
          "data": {
            "image/jpeg": "[encoded data removed]",
            "text/plain": [
              "<IPython.core.display.Image object>"
            ]
          },
          "metadata": {
            "tags": []
          }
        },
        {
          "output_type": "stream",
          "text": [
            "sample1_12_0.jpg\n"
          ],
          "name": "stdout"
        },
        {
          "output_type": "display_data",
          "data": {
            "image/jpeg": "[encoded data removed]",
            "text/plain": [
              "<IPython.core.display.Image object>"
            ]
          },
          "metadata": {
            "tags": []
          }
        },
        {
          "output_type": "stream",
          "text": [
            "sample1-flip_7_0.jpg\n"
          ],
          "name": "stdout"
        },
        {
          "output_type": "display_data",
          "data": {
            "image/jpeg": "[encoded data removed]",
            "text/plain": [
              "<IPython.core.display.Image object>"
            ]
          },
          "metadata": {
            "tags": []
          }
        },
        {
          "output_type": "stream",
          "text": [
            "sample1-flip_0_0.jpg\n"
          ],
          "name": "stdout"
        },
        {
          "output_type": "display_data",
          "data": {
            "image/jpeg": "[encoded data removed]",
            "text/plain": [
              "<IPython.core.display.Image object>"
            ]
          },
          "metadata": {
            "tags": []
          }
        }
      ]
    },
    {
      "cell_type": "code",
      "metadata": {
        "id": "fN_J3CUe2LRn",
        "colab": {
          "base_uri": "https://localhost:8080/",
          "height": 35
        },
        "outputId": "36a7a9a1-dfde-4065-cda8-048941d52d92"
      },
      "source": [
        "import numpy\n",
        "numpy.version.version"
      ],
      "execution_count": 20,
      "outputs": [
        {
          "output_type": "execute_result",
          "data": {
            "application/vnd.google.colaboratory.intrinsic+json": {
              "type": "string"
            },
            "text/plain": [
              "'1.18.5'"
            ]
          },
          "metadata": {
            "tags": []
          },
          "execution_count": 20
        }
      ]
    },
    {
      "cell_type": "markdown",
      "metadata": {
        "id": "m-jsrwYTEHXu"
      },
      "source": [
        "Run re-id script to find top 5 matching images to each query"
      ]
    },
    {
      "cell_type": "code",
      "metadata": {
        "id": "otiCenoVBK9h",
        "colab": {
          "base_uri": "https://localhost:8080/"
        },
        "outputId": "46a1d09f-5d2a-4282-948c-0d8b860e8d92"
      },
      "source": [
        "!python3 finder.py"
      ],
      "execution_count": 21,
      "outputs": [
        {
          "output_type": "stream",
          "text": [
            "/root/Person-Tracking-and-Re-ID/deep-reid/torchreid/metrics/rank.py:12: UserWarning: Cython evaluation (very fast so highly recommended) is unavailable, now use python evaluation.\n",
            "  'Cython evaluation (very fast so highly recommended) is '\n",
            "Building train transforms ...\n",
            "+ resize to 256x128\n",
            "+ random flip\n",
            "+ random crop (enlarge to 288x144 and crop 256x128)\n",
            "+ to torch tensor of range [0, 1]\n",
            "+ normalization (mean=[0.485, 0.456, 0.406], std=[0.229, 0.224, 0.225])\n",
            "Building test transforms ...\n",
            "+ resize to 256x128\n",
            "+ to torch tensor of range [0, 1]\n",
            "+ normalization (mean=[0.485, 0.456, 0.406], std=[0.229, 0.224, 0.225])\n",
            "=> Loading train (source) dataset\n",
            "=> Loaded NewDataset\n",
            "  ----------------------------------------\n",
            "  subset   | # ids | # images | # cameras\n",
            "  ----------------------------------------\n",
            "  train    |     1 |        1 |         1\n",
            "  query    |     5 |        5 |         2\n",
            "  gallery  |    14 |       25 |         2\n",
            "  ----------------------------------------\n",
            "=> Loading test (target) dataset\n",
            "=> Loaded NewDataset\n",
            "  ----------------------------------------\n",
            "  subset   | # ids | # images | # cameras\n",
            "  ----------------------------------------\n",
            "  train    |     1 |        1 |         1\n",
            "  query    |     5 |        5 |         2\n",
            "  gallery  |    14 |       25 |         2\n",
            "  ----------------------------------------\n",
            "\n",
            "\n",
            "  **************** Summary ****************\n",
            "  source            : ['Test_dataset']\n",
            "  # source datasets : 1\n",
            "  # source ids      : 1\n",
            "  # source images   : 1\n",
            "  # source cameras  : 1\n",
            "  target            : ['Test_dataset']\n",
            "  *****************************************\n",
            "\n",
            "\n",
            "Downloading: \"https://download.pytorch.org/models/resnet50-19c8e357.pth\" to /root/.cache/torch/hub/checkpoints/resnet50-19c8e357.pth\n",
            "100% 97.8M/97.8M [00:00<00:00, 306MB/s]\n",
            "Successfully loaded pretrained weights from \"log/resnet50/model.pth.tar-60\"\n",
            "##### Evaluating Test_dataset (source) #####\n",
            "Extracting features from query set ...\n",
            "Done, obtained 5-by-2048 matrix\n",
            "Extracting features from gallery set ...\n",
            "Done, obtained 25-by-2048 matrix\n",
            "Speed: 0.0518 sec/batch\n",
            "Computing distance matrix with metric=euclidean ...\n",
            "/root/Person-Tracking-and-Re-ID/deep-reid/torchreid/metrics/distance.py:62: UserWarning: This overload of addmm_ is deprecated:\n",
            "\taddmm_(Number beta, Number alpha, Tensor mat1, Tensor mat2)\n",
            "Consider using one of the following signatures instead:\n",
            "\taddmm_(Tensor mat1, Tensor mat2, *, Number beta, Number alpha) (Triggered internally at  /pytorch/torch/csrc/utils/python_arg_parser.cpp:882.)\n",
            "  distmat.addmm_(1, -2, input1, input2.t())\n",
            "Computing CMC and mAP ...\n",
            "Note: number of gallery samples is quite small, got 25\n",
            "** Results **\n",
            "mAP: 32.9%\n",
            "CMC curve\n",
            "Rank-1  : 25.0%\n",
            "Rank-5  : 50.0%\n",
            "Rank-10 : 50.0%\n",
            "Rank-20 : 100.0%\n",
            "# query: 5\n",
            "# gallery 25\n",
            "Visualizing top-5 ranks ...\n",
            "Matches for sample1-flip_0_0.jpg are:\n",
            "sample1_0_0.jpg\n",
            "sample1_13_0.jpg\n",
            "sample1_12_0.jpg\n",
            "sample1_3_0.jpg\n",
            "sample1-flip_10_0.jpg\n",
            "Matches for sample1-flip_7_0.jpg are:\n",
            "sample1_6_0.jpg\n",
            "sample1-flip_4_0.jpg\n",
            "sample1_1_0.jpg\n",
            "sample1-flip_1_0.jpg\n",
            "sample1_2_0.jpg\n",
            "Matches for sample1_9_0.jpg are:\n",
            "sample1-flip_11_0.jpg\n",
            "sample1-flip_8_0.jpg\n",
            "sample1-flip_3_0.jpg\n",
            "sample1_10_0.jpg\n",
            "sample1-flip_9_0.jpg\n",
            "Matches for sample1_12_0.jpg are:\n",
            "sample1_13_0.jpg\n",
            "sample1_1_0.jpg\n",
            "sample1-flip_0_0.jpg\n",
            "sample1-flip_8_0.jpg\n",
            "sample1-flip_4_0.jpg\n",
            "Matches for sample1_8_0.jpg are:\n",
            "sample1-flip_10_0.jpg\n",
            "sample1-flip_5_0.jpg\n",
            "sample1_5_0.jpg\n",
            "sample1_4_0.jpg\n",
            "sample1_2_0.jpg\n",
            "Done. Images have been saved to \"reid-data/visrank_Test_dataset\" ...\n"
          ],
          "name": "stdout"
        }
      ]
    },
    {
      "cell_type": "markdown",
      "metadata": {
        "id": "LCekNENtcAgh"
      },
      "source": [
        "# New Section"
      ]
    },
    {
      "cell_type": "markdown",
      "metadata": {
        "id": "E66HzzQlcBNY"
      },
      "source": [
        "# New Section"
      ]
    },
    {
      "cell_type": "markdown",
      "metadata": {
        "id": "Q3F3NJjqEgHO"
      },
      "source": [
        "Visualize output (Output directory - reid-data/visrank_Test_dataset/)"
      ]
    },
    {
      "cell_type": "code",
      "metadata": {
        "colab": {
          "base_uri": "https://localhost:8080/"
        },
        "id": "SVzFfyGDdaBC",
        "outputId": "b7d21f32-6107-4373-b3f3-82e1fae7f803"
      },
      "source": [
        "! nvidia-smi\n"
      ],
      "execution_count": 2,
      "outputs": [
        {
          "output_type": "stream",
          "text": [
            "Sun Dec  6 22:54:43 2020       \n",
            "+-----------------------------------------------------------------------------+\n",
            "| NVIDIA-SMI 455.45.01    Driver Version: 418.67       CUDA Version: 10.1     |\n",
            "|-------------------------------+----------------------+----------------------+\n",
            "| GPU  Name        Persistence-M| Bus-Id        Disp.A | Volatile Uncorr. ECC |\n",
            "| Fan  Temp  Perf  Pwr:Usage/Cap|         Memory-Usage | GPU-Util  Compute M. |\n",
            "|                               |                      |               MIG M. |\n",
            "|===============================+======================+======================|\n",
            "|   0  Tesla T4            Off  | 00000000:00:04.0 Off |                    0 |\n",
            "| N/A   58C    P8    10W /  70W |      0MiB / 15079MiB |      0%      Default |\n",
            "|                               |                      |                 ERR! |\n",
            "+-------------------------------+----------------------+----------------------+\n",
            "                                                                               \n",
            "+-----------------------------------------------------------------------------+\n",
            "| Processes:                                                                  |\n",
            "|  GPU   GI   CI        PID   Type   Process name                  GPU Memory |\n",
            "|        ID   ID                                                   Usage      |\n",
            "|=============================================================================|\n",
            "|  No running processes found                                                 |\n",
            "+-----------------------------------------------------------------------------+\n"
          ],
          "name": "stdout"
        }
      ]
    },
    {
      "cell_type": "code",
      "metadata": {
        "id": "oA6ORe5dvUOr",
        "colab": {
          "base_uri": "https://localhost:8080/",
          "height": 529
        },
        "outputId": "aa473518-5163-49f6-d3ab-187dddb56420"
      },
      "source": [
        "from IPython.display import Image, display\n",
        "vis_dir = 'reid-data/visrank_Test_dataset/'\n",
        "display(Image(vis_dir + queries[0]))\n",
        "display(Image(vis_dir + queries[1]))\n",
        "#display(Image(vis_dir + queries[2]))"
      ],
      "execution_count": 22,
      "outputs": [
        {
          "output_type": "display_data",
          "data": {
            "image/jpeg": "[encoded data removed]",
            "text/plain": [
              "<IPython.core.display.Image object>"
            ]
          },
          "metadata": {
            "tags": []
          }
        },
        {
          "output_type": "display_data",
          "data": {
            "image/jpeg": "[encoded data removed]",
            "text/plain": [
              "<IPython.core.display.Image object>"
            ]
          },
          "metadata": {
            "tags": []
          }
        }
      ]
    },
    {
      "cell_type": "code",
      "metadata": {
        "id": "J-nWEkzJ0tuV"
      },
      "source": [
        ""
      ],
      "execution_count": null,
      "outputs": []
    },
    {
      "cell_type": "code",
      "metadata": {
        "id": "jd9SKe6my5U_"
      },
      "source": [
        ""
      ],
      "execution_count": null,
      "outputs": []
    },
    {
      "cell_type": "markdown",
      "metadata": {
        "id": "jTjxGwTKRCN4"
      },
      "source": [
        "# **Contact Tracing**"
      ]
    },
    {
      "cell_type": "code",
      "metadata": {
        "id": "4H53yKzQRIte",
        "colab": {
          "base_uri": "https://localhost:8080/"
        },
        "outputId": "aebc2a3c-2e27-4d74-b507-9baaf52d7dcf"
      },
      "source": [
        "!python darknet_people_counter_contact.py -o out-contact.mp4 -i videos/sample1.mp4"
      ],
      "execution_count": null,
      "outputs": [
        {
          "output_type": "stream",
          "text": [
            "[INFO] loading model...\n",
            "layer     filters    size              input                output\n",
            "    0 conv     32  3 x 3 / 1   608 x 608 x   3   ->   608 x 608 x  32  0.639 BFLOPs\n",
            "    1 conv     64  3 x 3 / 2   608 x 608 x  32   ->   304 x 304 x  64  3.407 BFLOPs\n",
            "    2 conv     32  1 x 1 / 1   304 x 304 x  64   ->   304 x 304 x  32  0.379 BFLOPs\n",
            "    3 conv     64  3 x 3 / 1   304 x 304 x  32   ->   304 x 304 x  64  3.407 BFLOPs\n",
            "    4 res    1                 304 x 304 x  64   ->   304 x 304 x  64\n",
            "    5 conv    128  3 x 3 / 2   304 x 304 x  64   ->   152 x 152 x 128  3.407 BFLOPs\n",
            "    6 conv     64  1 x 1 / 1   152 x 152 x 128   ->   152 x 152 x  64  0.379 BFLOPs\n",
            "    7 conv    128  3 x 3 / 1   152 x 152 x  64   ->   152 x 152 x 128  3.407 BFLOPs\n",
            "    8 res    5                 152 x 152 x 128   ->   152 x 152 x 128\n",
            "    9 conv     64  1 x 1 / 1   152 x 152 x 128   ->   152 x 152 x  64  0.379 BFLOPs\n",
            "   10 conv    128  3 x 3 / 1   152 x 152 x  64   ->   152 x 152 x 128  3.407 BFLOPs\n",
            "   11 res    8                 152 x 152 x 128   ->   152 x 152 x 128\n",
            "   12 conv    256  3 x 3 / 2   152 x 152 x 128   ->    76 x  76 x 256  3.407 BFLOPs\n",
            "   13 conv    128  1 x 1 / 1    76 x  76 x 256   ->    76 x  76 x 128  0.379 BFLOPs\n",
            "   14 conv    256  3 x 3 / 1    76 x  76 x 128   ->    76 x  76 x 256  3.407 BFLOPs\n",
            "   15 res   12                  76 x  76 x 256   ->    76 x  76 x 256\n",
            "   16 conv    128  1 x 1 / 1    76 x  76 x 256   ->    76 x  76 x 128  0.379 BFLOPs\n",
            "   17 conv    256  3 x 3 / 1    76 x  76 x 128   ->    76 x  76 x 256  3.407 BFLOPs\n",
            "   18 res   15                  76 x  76 x 256   ->    76 x  76 x 256\n",
            "   19 conv    128  1 x 1 / 1    76 x  76 x 256   ->    76 x  76 x 128  0.379 BFLOPs\n",
            "   20 conv    256  3 x 3 / 1    76 x  76 x 128   ->    76 x  76 x 256  3.407 BFLOPs\n",
            "   21 res   18                  76 x  76 x 256   ->    76 x  76 x 256\n",
            "   22 conv    128  1 x 1 / 1    76 x  76 x 256   ->    76 x  76 x 128  0.379 BFLOPs\n",
            "   23 conv    256  3 x 3 / 1    76 x  76 x 128   ->    76 x  76 x 256  3.407 BFLOPs\n",
            "   24 res   21                  76 x  76 x 256   ->    76 x  76 x 256\n",
            "   25 conv    128  1 x 1 / 1    76 x  76 x 256   ->    76 x  76 x 128  0.379 BFLOPs\n",
            "   26 conv    256  3 x 3 / 1    76 x  76 x 128   ->    76 x  76 x 256  3.407 BFLOPs\n",
            "   27 res   24                  76 x  76 x 256   ->    76 x  76 x 256\n",
            "   28 conv    128  1 x 1 / 1    76 x  76 x 256   ->    76 x  76 x 128  0.379 BFLOPs\n",
            "   29 conv    256  3 x 3 / 1    76 x  76 x 128   ->    76 x  76 x 256  3.407 BFLOPs\n",
            "   30 res   27                  76 x  76 x 256   ->    76 x  76 x 256\n",
            "   31 conv    128  1 x 1 / 1    76 x  76 x 256   ->    76 x  76 x 128  0.379 BFLOPs\n",
            "   32 conv    256  3 x 3 / 1    76 x  76 x 128   ->    76 x  76 x 256  3.407 BFLOPs\n",
            "   33 res   30                  76 x  76 x 256   ->    76 x  76 x 256\n",
            "   34 conv    128  1 x 1 / 1    76 x  76 x 256   ->    76 x  76 x 128  0.379 BFLOPs\n",
            "   35 conv    256  3 x 3 / 1    76 x  76 x 128   ->    76 x  76 x 256  3.407 BFLOPs\n",
            "   36 res   33                  76 x  76 x 256   ->    76 x  76 x 256\n",
            "   37 conv    512  3 x 3 / 2    76 x  76 x 256   ->    38 x  38 x 512  3.407 BFLOPs\n",
            "   38 conv    256  1 x 1 / 1    38 x  38 x 512   ->    38 x  38 x 256  0.379 BFLOPs\n",
            "   39 conv    512  3 x 3 / 1    38 x  38 x 256   ->    38 x  38 x 512  3.407 BFLOPs\n",
            "   40 res   37                  38 x  38 x 512   ->    38 x  38 x 512\n",
            "   41 conv    256  1 x 1 / 1    38 x  38 x 512   ->    38 x  38 x 256  0.379 BFLOPs\n",
            "   42 conv    512  3 x 3 / 1    38 x  38 x 256   ->    38 x  38 x 512  3.407 BFLOPs\n",
            "   43 res   40                  38 x  38 x 512   ->    38 x  38 x 512\n",
            "   44 conv    256  1 x 1 / 1    38 x  38 x 512   ->    38 x  38 x 256  0.379 BFLOPs\n",
            "   45 conv    512  3 x 3 / 1    38 x  38 x 256   ->    38 x  38 x 512  3.407 BFLOPs\n",
            "   46 res   43                  38 x  38 x 512   ->    38 x  38 x 512\n",
            "   47 conv    256  1 x 1 / 1    38 x  38 x 512   ->    38 x  38 x 256  0.379 BFLOPs\n",
            "   48 conv    512  3 x 3 / 1    38 x  38 x 256   ->    38 x  38 x 512  3.407 BFLOPs\n",
            "   49 res   46                  38 x  38 x 512   ->    38 x  38 x 512\n",
            "   50 conv    256  1 x 1 / 1    38 x  38 x 512   ->    38 x  38 x 256  0.379 BFLOPs\n",
            "   51 conv    512  3 x 3 / 1    38 x  38 x 256   ->    38 x  38 x 512  3.407 BFLOPs\n",
            "   52 res   49                  38 x  38 x 512   ->    38 x  38 x 512\n",
            "   53 conv    256  1 x 1 / 1    38 x  38 x 512   ->    38 x  38 x 256  0.379 BFLOPs\n",
            "   54 conv    512  3 x 3 / 1    38 x  38 x 256   ->    38 x  38 x 512  3.407 BFLOPs\n",
            "   55 res   52                  38 x  38 x 512   ->    38 x  38 x 512\n",
            "   56 conv    256  1 x 1 / 1    38 x  38 x 512   ->    38 x  38 x 256  0.379 BFLOPs\n",
            "   57 conv    512  3 x 3 / 1    38 x  38 x 256   ->    38 x  38 x 512  3.407 BFLOPs\n",
            "   58 res   55                  38 x  38 x 512   ->    38 x  38 x 512\n",
            "   59 conv    256  1 x 1 / 1    38 x  38 x 512   ->    38 x  38 x 256  0.379 BFLOPs\n",
            "   60 conv    512  3 x 3 / 1    38 x  38 x 256   ->    38 x  38 x 512  3.407 BFLOPs\n",
            "   61 res   58                  38 x  38 x 512   ->    38 x  38 x 512\n",
            "   62 conv   1024  3 x 3 / 2    38 x  38 x 512   ->    19 x  19 x1024  3.407 BFLOPs\n",
            "   63 conv    512  1 x 1 / 1    19 x  19 x1024   ->    19 x  19 x 512  0.379 BFLOPs\n",
            "   64 conv   1024  3 x 3 / 1    19 x  19 x 512   ->    19 x  19 x1024  3.407 BFLOPs\n",
            "   65 res   62                  19 x  19 x1024   ->    19 x  19 x1024\n",
            "   66 conv    512  1 x 1 / 1    19 x  19 x1024   ->    19 x  19 x 512  0.379 BFLOPs\n",
            "   67 conv   1024  3 x 3 / 1    19 x  19 x 512   ->    19 x  19 x1024  3.407 BFLOPs\n",
            "   68 res   65                  19 x  19 x1024   ->    19 x  19 x1024\n",
            "   69 conv    512  1 x 1 / 1    19 x  19 x1024   ->    19 x  19 x 512  0.379 BFLOPs\n",
            "   70 conv   1024  3 x 3 / 1    19 x  19 x 512   ->    19 x  19 x1024  3.407 BFLOPs\n",
            "   71 res   68                  19 x  19 x1024   ->    19 x  19 x1024\n",
            "   72 conv    512  1 x 1 / 1    19 x  19 x1024   ->    19 x  19 x 512  0.379 BFLOPs\n",
            "   73 conv   1024  3 x 3 / 1    19 x  19 x 512   ->    19 x  19 x1024  3.407 BFLOPs\n",
            "   74 res   71                  19 x  19 x1024   ->    19 x  19 x1024\n",
            "   75 conv    512  1 x 1 / 1    19 x  19 x1024   ->    19 x  19 x 512  0.379 BFLOPs\n",
            "   76 conv   1024  3 x 3 / 1    19 x  19 x 512   ->    19 x  19 x1024  3.407 BFLOPs\n",
            "   77 conv    512  1 x 1 / 1    19 x  19 x1024   ->    19 x  19 x 512  0.379 BFLOPs\n",
            "   78 conv   1024  3 x 3 / 1    19 x  19 x 512   ->    19 x  19 x1024  3.407 BFLOPs\n",
            "   79 conv    512  1 x 1 / 1    19 x  19 x1024   ->    19 x  19 x 512  0.379 BFLOPs\n",
            "   80 conv   1024  3 x 3 / 1    19 x  19 x 512   ->    19 x  19 x1024  3.407 BFLOPs\n",
            "   81 conv    255  1 x 1 / 1    19 x  19 x1024   ->    19 x  19 x 255  0.189 BFLOPs\n",
            "   82 yolo\n",
            "   83 route  79\n",
            "   84 conv    256  1 x 1 / 1    19 x  19 x 512   ->    19 x  19 x 256  0.095 BFLOPs\n",
            "   85 upsample            2x    19 x  19 x 256   ->    38 x  38 x 256\n",
            "   86 route  85 61\n",
            "   87 conv    256  1 x 1 / 1    38 x  38 x 768   ->    38 x  38 x 256  0.568 BFLOPs\n",
            "   88 conv    512  3 x 3 / 1    38 x  38 x 256   ->    38 x  38 x 512  3.407 BFLOPs\n",
            "   89 conv    256  1 x 1 / 1    38 x  38 x 512   ->    38 x  38 x 256  0.379 BFLOPs\n",
            "   90 conv    512  3 x 3 / 1    38 x  38 x 256   ->    38 x  38 x 512  3.407 BFLOPs\n",
            "   91 conv    256  1 x 1 / 1    38 x  38 x 512   ->    38 x  38 x 256  0.379 BFLOPs\n",
            "   92 conv    512  3 x 3 / 1    38 x  38 x 256   ->    38 x  38 x 512  3.407 BFLOPs\n",
            "   93 conv    255  1 x 1 / 1    38 x  38 x 512   ->    38 x  38 x 255  0.377 BFLOPs\n",
            "   94 yolo\n",
            "   95 route  91\n",
            "   96 conv    128  1 x 1 / 1    38 x  38 x 256   ->    38 x  38 x 128  0.095 BFLOPs\n",
            "   97 upsample            2x    38 x  38 x 128   ->    76 x  76 x 128\n",
            "   98 route  97 36\n",
            "   99 conv    128  1 x 1 / 1    76 x  76 x 384   ->    76 x  76 x 128  0.568 BFLOPs\n",
            "  100 conv    256  3 x 3 / 1    76 x  76 x 128   ->    76 x  76 x 256  3.407 BFLOPs\n",
            "  101 conv    128  1 x 1 / 1    76 x  76 x 256   ->    76 x  76 x 128  0.379 BFLOPs\n",
            "  102 conv    256  3 x 3 / 1    76 x  76 x 128   ->    76 x  76 x 256  3.407 BFLOPs\n",
            "  103 conv    128  1 x 1 / 1    76 x  76 x 256   ->    76 x  76 x 128  0.379 BFLOPs\n",
            "  104 conv    256  3 x 3 / 1    76 x  76 x 128   ->    76 x  76 x 256  3.407 BFLOPs\n",
            "  105 conv    255  1 x 1 / 1    76 x  76 x 256   ->    76 x  76 x 255  0.754 BFLOPs\n",
            "  106 yolo\n",
            "Loading weights from yolo/yolov3.weights...Done!\n",
            "OpenCV: FFMPEG: tag 0x47504a4d/'MJPG' is not supported with codec id 7 and format 'mp4 / MP4 (MPEG-4 Part 14)'\n",
            "OpenCV: FFMPEG: fallback to use tag 0x7634706d/'mp4v'\n",
            "out\n",
            "in\n",
            "in\n",
            "in\n",
            "out\n",
            "in\n",
            "out\n",
            "[INFO] elapsed time: 53.06\n",
            "[INFO] approx. FPS: 13.81\n"
          ],
          "name": "stdout"
        }
      ]
    },
    {
      "cell_type": "code",
      "metadata": {
        "id": "YsnsJDZtUL_Q",
        "colab": {
          "base_uri": "https://localhost:8080/"
        },
        "outputId": "8dfc1321-91c0-47d5-e18d-57aa2c664ece"
      },
      "source": [
        "!cp out-contact.mp4 /content/drive/My\\ Drive/DDP-demo/out-contact.mp4"
      ],
      "execution_count": null,
      "outputs": [
        {
          "output_type": "stream",
          "text": [
            "cp: cannot create regular file '/content/drive/My Drive/DDP-demo/out-contact.mp4': No such file or directory\n"
          ],
          "name": "stdout"
        }
      ]
    },
    {
      "cell_type": "markdown",
      "metadata": {
        "id": "ZDtfbvfLExo5"
      },
      "source": [
        "Extras"
      ]
    },
    {
      "cell_type": "code",
      "metadata": {
        "id": "sdCTlBniCxCi",
        "colab": {
          "base_uri": "https://localhost:8080/"
        },
        "outputId": "86d34143-1c78-43d9-cb35-26c12f351ebc"
      },
      "source": [
        "%ls -a /root/people-counting/gallery/"
      ],
      "execution_count": null,
      "outputs": [
        {
          "output_type": "stream",
          "text": [
            "ls: cannot access '/root/people-counting/gallery/': No such file or directory\n"
          ],
          "name": "stdout"
        }
      ]
    },
    {
      "cell_type": "code",
      "metadata": {
        "id": "fKfF6eUmDIDW"
      },
      "source": [
        "!rm -rf reid-data/Test_folder/query/.ipynb_checkpoints/"
      ],
      "execution_count": null,
      "outputs": []
    },
    {
      "cell_type": "code",
      "metadata": {
        "id": "tTMGRJ0kCCOz",
        "colab": {
          "base_uri": "https://localhost:8080/"
        },
        "outputId": "822e0017-7003-4bdf-8224-4c9c427a01c4"
      },
      "source": [
        "%ls -a reid-data/Test_folder/gallery/"
      ],
      "execution_count": null,
      "outputs": [
        {
          "output_type": "stream",
          "text": [
            "ls: cannot access 'reid-data/Test_folder/gallery/': No such file or directory\n"
          ],
          "name": "stdout"
        }
      ]
    },
    {
      "cell_type": "code",
      "metadata": {
        "id": "T7XI9YHQny3T",
        "colab": {
          "base_uri": "https://localhost:8080/"
        },
        "outputId": "d36c78d3-c8f5-45f8-85d9-d45cb86f3322"
      },
      "source": [
        "!unzip \"/content/drive/My Drive/DDP-demo/darknet_old.zip\"\n",
        "!unzip \"/content/drive/My Drive/DDP-demo/people-counting_new.zip\"\n",
        "!unzip \"/content/drive/My Drive/DDP-demo/deep-reid_new.zip\""
      ],
      "execution_count": null,
      "outputs": [
        {
          "output_type": "stream",
          "text": [
            "unzip:  cannot find or open /content/drive/My Drive/DDP-demo/darknet_old.zip, /content/drive/My Drive/DDP-demo/darknet_old.zip.zip or /content/drive/My Drive/DDP-demo/darknet_old.zip.ZIP.\n",
            "unzip:  cannot find or open /content/drive/My Drive/DDP-demo/people-counting_new.zip, /content/drive/My Drive/DDP-demo/people-counting_new.zip.zip or /content/drive/My Drive/DDP-demo/people-counting_new.zip.ZIP.\n",
            "unzip:  cannot find or open /content/drive/My Drive/DDP-demo/deep-reid_new.zip, /content/drive/My Drive/DDP-demo/deep-reid_new.zip.zip or /content/drive/My Drive/DDP-demo/deep-reid_new.zip.ZIP.\n"
          ],
          "name": "stdout"
        }
      ]
    },
    {
      "cell_type": "code",
      "metadata": {
        "id": "DyawGscyq3Bj",
        "colab": {
          "base_uri": "https://localhost:8080/"
        },
        "outputId": "1b68c8e1-c40a-4664-c1ca-401d0202f38c"
      },
      "source": [
        "!zip -r reid-data.zip reid-data/"
      ],
      "execution_count": null,
      "outputs": [
        {
          "output_type": "stream",
          "text": [
            "\tzip warning: name not matched: reid-data/\n",
            "\n",
            "zip error: Nothing to do! (try: zip -r reid-data.zip . -i reid-data/)\n"
          ],
          "name": "stdout"
        }
      ]
    },
    {
      "cell_type": "code",
      "metadata": {
        "id": "N_L2RGDrdPJf"
      },
      "source": [
        ""
      ],
      "execution_count": null,
      "outputs": []
    }
  ]
}